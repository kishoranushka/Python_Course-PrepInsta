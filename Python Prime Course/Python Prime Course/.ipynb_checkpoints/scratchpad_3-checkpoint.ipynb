{
 "cells": [
  {
   "cell_type": "code",
   "execution_count": 10,
   "id": "3cf59e0c",
   "metadata": {},
   "outputs": [],
   "source": [
    "import numpy as np"
   ]
  },
  {
   "cell_type": "code",
   "execution_count": 11,
   "id": "fb8674a2",
   "metadata": {},
   "outputs": [],
   "source": [
    "arr = np.array([[1,2,3],[4,5,6],[7,8,9]])"
   ]
  },
  {
   "cell_type": "code",
   "execution_count": 12,
   "id": "94003507",
   "metadata": {},
   "outputs": [
    {
     "name": "stdout",
     "output_type": "stream",
     "text": [
      "[[1 2 3]\n",
      " [4 5 6]\n",
      " [7 8 9]]\n"
     ]
    }
   ],
   "source": [
    "print(arr)"
   ]
  },
  {
   "cell_type": "code",
   "execution_count": 13,
   "id": "92ba2e49",
   "metadata": {},
   "outputs": [
    {
     "name": "stdout",
     "output_type": "stream",
     "text": [
      "[4 5 6]\n"
     ]
    }
   ],
   "source": [
    "print(arr[1])"
   ]
  },
  {
   "cell_type": "code",
   "execution_count": 14,
   "id": "90fdf841",
   "metadata": {},
   "outputs": [
    {
     "name": "stdout",
     "output_type": "stream",
     "text": [
      "[[4 5 6]\n",
      " [7 8 9]]\n"
     ]
    }
   ],
   "source": [
    "print(arr[1:3])"
   ]
  },
  {
   "cell_type": "code",
   "execution_count": 15,
   "id": "64bfa355",
   "metadata": {},
   "outputs": [
    {
     "name": "stdout",
     "output_type": "stream",
     "text": [
      "[2 5 8]\n"
     ]
    }
   ],
   "source": [
    "print(arr[:,1])"
   ]
  },
  {
   "cell_type": "code",
   "execution_count": 16,
   "id": "09d17d47",
   "metadata": {},
   "outputs": [
    {
     "name": "stdout",
     "output_type": "stream",
     "text": [
      "[4 5 6]\n",
      "[[4 5 6]\n",
      " [7 8 9]]\n"
     ]
    }
   ],
   "source": [
    "twoD_array = np.array([[1,2,3],[4,5,6],[7,8,9]])\n",
    "\n",
    "print(twoD_array[1])\n",
    "print(twoD_array[1:3])"
   ]
  },
  {
   "cell_type": "code",
   "execution_count": 17,
   "id": "683db34a",
   "metadata": {},
   "outputs": [
    {
     "data": {
      "text/plain": [
       "array([[1, 2, 3],\n",
       "       [4, 5, 6],\n",
       "       [7, 8, 9]])"
      ]
     },
     "execution_count": 17,
     "metadata": {},
     "output_type": "execute_result"
    }
   ],
   "source": [
    "twoD_array"
   ]
  },
  {
   "cell_type": "code",
   "execution_count": 18,
   "id": "9072692a",
   "metadata": {},
   "outputs": [],
   "source": [
    "txt = \"Spinit\\\\ \\b \\rWinit\"\n"
   ]
  },
  {
   "cell_type": "code",
   "execution_count": 19,
   "id": "8949994c",
   "metadata": {},
   "outputs": [
    {
     "data": {
      "text/plain": [
       "'Spinit\\\\ \\x08 \\rWinit'"
      ]
     },
     "execution_count": 19,
     "metadata": {},
     "output_type": "execute_result"
    }
   ],
   "source": [
    "txt"
   ]
  },
  {
   "cell_type": "code",
   "execution_count": 20,
   "id": "5b095a1e",
   "metadata": {},
   "outputs": [
    {
     "name": "stdout",
     "output_type": "stream",
     "text": [
      "Winitt\\ \n"
     ]
    }
   ],
   "source": [
    "print(txt)"
   ]
  },
  {
   "cell_type": "code",
   "execution_count": 21,
   "id": "7d00b2f8",
   "metadata": {},
   "outputs": [
    {
     "name": "stdout",
     "output_type": "stream",
     "text": [
      "The sum of 10 and a is 14\n"
     ]
    }
   ],
   "source": [
    "print('The sum of {0:b} and {1:x} is {2:o}'.format(2,10,12))"
   ]
  },
  {
   "cell_type": "code",
   "execution_count": 22,
   "id": "e473098a",
   "metadata": {},
   "outputs": [
    {
     "data": {
      "text/plain": [
       "'atsnIperP ni noitraper'"
      ]
     },
     "execution_count": 22,
     "metadata": {},
     "output_type": "execute_result"
    }
   ],
   "source": [
    "txt = 'Prepartion in PrepInsta'\n",
    "txt[23:0:-1]"
   ]
  },
  {
   "cell_type": "code",
   "execution_count": 23,
   "id": "4bb8bd67",
   "metadata": {},
   "outputs": [
    {
     "data": {
      "text/plain": [
       "23"
      ]
     },
     "execution_count": 23,
     "metadata": {},
     "output_type": "execute_result"
    }
   ],
   "source": [
    "len(txt)"
   ]
  },
  {
   "cell_type": "code",
   "execution_count": 24,
   "id": "7bc415bd",
   "metadata": {},
   "outputs": [
    {
     "name": "stdout",
     "output_type": "stream",
     "text": [
      "YOUR FLAG IS ::  FLAG{Bravo!!!!YOU DID IT....}\n"
     ]
    }
   ],
   "source": [
    "key = 'azbycxdwevfugthsirjqkplomn'\n",
    "#plaintext_message = 'This!'\n",
    "\n",
    "plaintext= chr(70)+chr(76)+chr(65)+chr(71)+chr(123)+chr(66)+chr(114)+chr(97)+chr(118)+chr(111)+chr(33)+chr(33)+chr(33)+chr(33)+chr(89)+chr(79)+chr(85)+chr(32)+chr(68)+chr(73)+chr(68)+chr(32)+chr(73)+chr(84)+chr(46)+chr(46)+chr(46)+chr(46)+chr(125)\n",
    "\n",
    "def str_xor(secret, key):\n",
    "    new_key = key\n",
    "    i = 0\n",
    "    while len(new_key) < len(secret):\n",
    "        new_key = new_key + key[i]\n",
    "        i = (i + 1) % len(key)        \n",
    "    return \"\".join([chr(ord(secret_c) ^ ord(new_key_c)) for (secret_c,new_key_c) in zip(secret,new_key)])\n",
    "### END OF FUNCTION\n",
    "\n",
    "encrypted_msg = str_xor(plaintext, key)\n",
    "decrypted_msg = str_xor(encrypted_msg, key)\n",
    "\n",
    "print(\"YOUR FLAG IS :: \",decrypted_msg)"
   ]
  },
  {
   "cell_type": "code",
   "execution_count": 25,
   "id": "8c33fde3",
   "metadata": {},
   "outputs": [
    {
     "ename": "SyntaxError",
     "evalue": "unterminated string literal (detected at line 1) (1148034.py, line 1)",
     "output_type": "error",
     "traceback": [
      "\u001b[1;36m  Cell \u001b[1;32mIn[25], line 1\u001b[1;36m\u001b[0m\n\u001b[1;33m    x = \"\"Prepinsta's special course\"\"\u001b[0m\n\u001b[1;37m                   ^\u001b[0m\n\u001b[1;31mSyntaxError\u001b[0m\u001b[1;31m:\u001b[0m unterminated string literal (detected at line 1)\n"
     ]
    }
   ],
   "source": [
    "x = \"\"Prepinsta's special course\"\"\n",
    "\n",
    "print(x)"
   ]
  },
  {
   "cell_type": "code",
   "execution_count": null,
   "id": "70a0cbe0",
   "metadata": {},
   "outputs": [],
   "source": [
    "a = input(Ent)\n",
    "print (a*2)"
   ]
  },
  {
   "cell_type": "code",
   "execution_count": null,
   "id": "239a8ee1",
   "metadata": {},
   "outputs": [
    {
     "name": "stdout",
     "output_type": "stream",
     "text": [
      "aa\n"
     ]
    }
   ],
   "source": [
    "d={'a':5,'b':3,'c':2}\n",
    "s=\"\"\n",
    "for i in d.keys():\n",
    "    s+=i*d[i]\n",
    "print(s[3::-2])"
   ]
  },
  {
   "cell_type": "code",
   "execution_count": null,
   "id": "89c8c3ec",
   "metadata": {},
   "outputs": [],
   "source": [
    "import pandas as pd"
   ]
  },
  {
   "cell_type": "code",
   "execution_count": null,
   "id": "39b909de",
   "metadata": {},
   "outputs": [],
   "source": [
    "df = pd.read_csv('https://raw.githubusercontent.com/PacktPublishing/Learning-Tableau-2019/master/Chapter02/Superstore.csv')"
   ]
  },
  {
   "cell_type": "code",
   "execution_count": null,
   "id": "09d5909f",
   "metadata": {},
   "outputs": [
    {
     "data": {
      "text/html": [
       "<div>\n",
       "<style scoped>\n",
       "    .dataframe tbody tr th:only-of-type {\n",
       "        vertical-align: middle;\n",
       "    }\n",
       "\n",
       "    .dataframe tbody tr th {\n",
       "        vertical-align: top;\n",
       "    }\n",
       "\n",
       "    .dataframe thead th {\n",
       "        text-align: right;\n",
       "    }\n",
       "</style>\n",
       "<table border=\"1\" class=\"dataframe\">\n",
       "  <thead>\n",
       "    <tr style=\"text-align: right;\">\n",
       "      <th></th>\n",
       "      <th>Category</th>\n",
       "      <th>City</th>\n",
       "      <th>Container</th>\n",
       "      <th>Customer ID</th>\n",
       "      <th>Customer Name</th>\n",
       "      <th>Customer Segment</th>\n",
       "      <th>Department</th>\n",
       "      <th>Discount</th>\n",
       "      <th>Item ID</th>\n",
       "      <th>Item</th>\n",
       "      <th>...</th>\n",
       "      <th>Product Base Margin</th>\n",
       "      <th>Profit</th>\n",
       "      <th>Region</th>\n",
       "      <th>Row ID</th>\n",
       "      <th>Sales</th>\n",
       "      <th>Ship Date</th>\n",
       "      <th>Ship Mode</th>\n",
       "      <th>Shipping Cost</th>\n",
       "      <th>State</th>\n",
       "      <th>Unit Price</th>\n",
       "    </tr>\n",
       "  </thead>\n",
       "  <tbody>\n",
       "    <tr>\n",
       "      <th>0</th>\n",
       "      <td>Paper</td>\n",
       "      <td>Lombard</td>\n",
       "      <td>Small Box</td>\n",
       "      <td>3035</td>\n",
       "      <td>Mark Bailey</td>\n",
       "      <td>Home Office</td>\n",
       "      <td>Office Supplies</td>\n",
       "      <td>0.01</td>\n",
       "      <td>10074</td>\n",
       "      <td>Hammermill CopyPlus Copy Paper (20Lb. and 84 B...</td>\n",
       "      <td>...</td>\n",
       "      <td>0.36</td>\n",
       "      <td>-76</td>\n",
       "      <td>Central</td>\n",
       "      <td>11/18/1951</td>\n",
       "      <td>53</td>\n",
       "      <td>11/9/2018</td>\n",
       "      <td>Regular Air</td>\n",
       "      <td>5</td>\n",
       "      <td>Illinois</td>\n",
       "      <td>5</td>\n",
       "    </tr>\n",
       "    <tr>\n",
       "      <th>1</th>\n",
       "      <td>Paper</td>\n",
       "      <td>Lombard</td>\n",
       "      <td>Wrap Bag</td>\n",
       "      <td>3035</td>\n",
       "      <td>Mark Bailey</td>\n",
       "      <td>Home Office</td>\n",
       "      <td>Office Supplies</td>\n",
       "      <td>0.04</td>\n",
       "      <td>10079</td>\n",
       "      <td>Telephone Message Books with Fax/Mobile Sectio...</td>\n",
       "      <td>...</td>\n",
       "      <td>0.39</td>\n",
       "      <td>52</td>\n",
       "      <td>Central</td>\n",
       "      <td>11/19/1951</td>\n",
       "      <td>76</td>\n",
       "      <td>11/12/2016</td>\n",
       "      <td>Regular Air</td>\n",
       "      <td>1</td>\n",
       "      <td>Illinois</td>\n",
       "      <td>6</td>\n",
       "    </tr>\n",
       "    <tr>\n",
       "      <th>2</th>\n",
       "      <td>Pens &amp; Art Supplies</td>\n",
       "      <td>Southbury</td>\n",
       "      <td>Wrap Bag</td>\n",
       "      <td>3385</td>\n",
       "      <td>Daniel Richmond</td>\n",
       "      <td>Corporate</td>\n",
       "      <td>Office Supplies</td>\n",
       "      <td>0.04</td>\n",
       "      <td>11012</td>\n",
       "      <td>Premium Writing Pencils, Soft, #2 by Central A...</td>\n",
       "      <td>...</td>\n",
       "      <td>0.57</td>\n",
       "      <td>-22</td>\n",
       "      <td>East</td>\n",
       "      <td>3/1/1961</td>\n",
       "      <td>16</td>\n",
       "      <td>11/23/2017</td>\n",
       "      <td>Express Air</td>\n",
       "      <td>2</td>\n",
       "      <td>Connecticut</td>\n",
       "      <td>3</td>\n",
       "    </tr>\n",
       "    <tr>\n",
       "      <th>3</th>\n",
       "      <td>Binders and Binder Accessories</td>\n",
       "      <td>Coachella</td>\n",
       "      <td>Small Box</td>\n",
       "      <td>3133</td>\n",
       "      <td>Kristine Singleton</td>\n",
       "      <td>Corporate</td>\n",
       "      <td>Office Supplies</td>\n",
       "      <td>0.10</td>\n",
       "      <td>10646</td>\n",
       "      <td>Fellowes Black Plastic Comb Bindings</td>\n",
       "      <td>...</td>\n",
       "      <td>0.39</td>\n",
       "      <td>-350</td>\n",
       "      <td>West</td>\n",
       "      <td>6/27/1961</td>\n",
       "      <td>65</td>\n",
       "      <td>1/25/2018</td>\n",
       "      <td>Regular Air</td>\n",
       "      <td>8</td>\n",
       "      <td>California</td>\n",
       "      <td>6</td>\n",
       "    </tr>\n",
       "    <tr>\n",
       "      <th>4</th>\n",
       "      <td>Rubber Bands</td>\n",
       "      <td>Coachella</td>\n",
       "      <td>Wrap Bag</td>\n",
       "      <td>3133</td>\n",
       "      <td>Kristine Singleton</td>\n",
       "      <td>Corporate</td>\n",
       "      <td>Office Supplies</td>\n",
       "      <td>0.03</td>\n",
       "      <td>10138</td>\n",
       "      <td>Assorted Color Push Pins</td>\n",
       "      <td>...</td>\n",
       "      <td>0.52</td>\n",
       "      <td>4</td>\n",
       "      <td>West</td>\n",
       "      <td>6/28/1961</td>\n",
       "      <td>19</td>\n",
       "      <td>1/25/2018</td>\n",
       "      <td>Regular Air</td>\n",
       "      <td>1</td>\n",
       "      <td>California</td>\n",
       "      <td>2</td>\n",
       "    </tr>\n",
       "    <tr>\n",
       "      <th>...</th>\n",
       "      <td>...</td>\n",
       "      <td>...</td>\n",
       "      <td>...</td>\n",
       "      <td>...</td>\n",
       "      <td>...</td>\n",
       "      <td>...</td>\n",
       "      <td>...</td>\n",
       "      <td>...</td>\n",
       "      <td>...</td>\n",
       "      <td>...</td>\n",
       "      <td>...</td>\n",
       "      <td>...</td>\n",
       "      <td>...</td>\n",
       "      <td>...</td>\n",
       "      <td>...</td>\n",
       "      <td>...</td>\n",
       "      <td>...</td>\n",
       "      <td>...</td>\n",
       "      <td>...</td>\n",
       "      <td>...</td>\n",
       "      <td>...</td>\n",
       "    </tr>\n",
       "    <tr>\n",
       "      <th>9421</th>\n",
       "      <td>Scissors, Rulers and Trimmers</td>\n",
       "      <td>Dublin</td>\n",
       "      <td>Wrap Bag</td>\n",
       "      <td>2733</td>\n",
       "      <td>Marian Godwin</td>\n",
       "      <td>Small Business</td>\n",
       "      <td>Office Supplies</td>\n",
       "      <td>0.08</td>\n",
       "      <td>11255</td>\n",
       "      <td>Serrated Blade or Curved Handle Hand Letter Op...</td>\n",
       "      <td>...</td>\n",
       "      <td>0.84</td>\n",
       "      <td>-48</td>\n",
       "      <td>West</td>\n",
       "      <td>11/6/1969</td>\n",
       "      <td>38</td>\n",
       "      <td>12/16/2017</td>\n",
       "      <td>Regular Air</td>\n",
       "      <td>2</td>\n",
       "      <td>California</td>\n",
       "      <td>3</td>\n",
       "    </tr>\n",
       "    <tr>\n",
       "      <th>9422</th>\n",
       "      <td>Pens &amp; Art Supplies</td>\n",
       "      <td>Cottage Grove</td>\n",
       "      <td>Wrap Bag</td>\n",
       "      <td>2291</td>\n",
       "      <td>Maxine Joyner</td>\n",
       "      <td>Corporate</td>\n",
       "      <td>Office Supplies</td>\n",
       "      <td>0.06</td>\n",
       "      <td>11154</td>\n",
       "      <td>Dixon My First Ticonderoga Pencil, #2</td>\n",
       "      <td>...</td>\n",
       "      <td>0.56</td>\n",
       "      <td>-2</td>\n",
       "      <td>Central</td>\n",
       "      <td>3/5/1959</td>\n",
       "      <td>53</td>\n",
       "      <td>7/7/2018</td>\n",
       "      <td>Regular Air</td>\n",
       "      <td>2</td>\n",
       "      <td>Minnesota</td>\n",
       "      <td>6</td>\n",
       "    </tr>\n",
       "    <tr>\n",
       "      <th>9423</th>\n",
       "      <td>Appliances</td>\n",
       "      <td>Sanford</td>\n",
       "      <td>Small Box</td>\n",
       "      <td>436</td>\n",
       "      <td>Lauren Lanier</td>\n",
       "      <td>Small Business</td>\n",
       "      <td>Office Supplies</td>\n",
       "      <td>0.05</td>\n",
       "      <td>11144</td>\n",
       "      <td>Tripp Lite Isotel 8 Ultra 8 Outlet Metal Surge</td>\n",
       "      <td>...</td>\n",
       "      <td>0.59</td>\n",
       "      <td>569</td>\n",
       "      <td>East</td>\n",
       "      <td>12/2/1954</td>\n",
       "      <td>825</td>\n",
       "      <td>11/28/2017</td>\n",
       "      <td>Regular Air</td>\n",
       "      <td>4</td>\n",
       "      <td>Maine</td>\n",
       "      <td>71</td>\n",
       "    </tr>\n",
       "    <tr>\n",
       "      <th>9424</th>\n",
       "      <td>Paper</td>\n",
       "      <td>Paterson</td>\n",
       "      <td>Small Box</td>\n",
       "      <td>931</td>\n",
       "      <td>Norma Hull</td>\n",
       "      <td>Small Business</td>\n",
       "      <td>Office Supplies</td>\n",
       "      <td>0.07</td>\n",
       "      <td>10859</td>\n",
       "      <td>Xerox 1893</td>\n",
       "      <td>...</td>\n",
       "      <td>0.36</td>\n",
       "      <td>22</td>\n",
       "      <td>East</td>\n",
       "      <td>8/1/1962</td>\n",
       "      <td>163</td>\n",
       "      <td>7/21/2016</td>\n",
       "      <td>Regular Air</td>\n",
       "      <td>17</td>\n",
       "      <td>New Jersey</td>\n",
       "      <td>41</td>\n",
       "    </tr>\n",
       "    <tr>\n",
       "      <th>9425</th>\n",
       "      <td>Computer Peripherals</td>\n",
       "      <td>Taylor</td>\n",
       "      <td>Small Box</td>\n",
       "      <td>2155</td>\n",
       "      <td>Raymond Clark</td>\n",
       "      <td>Home Office</td>\n",
       "      <td>Technology</td>\n",
       "      <td>0.06</td>\n",
       "      <td>10229</td>\n",
       "      <td>Keytronic Designer 104- Key Black Keyboard</td>\n",
       "      <td>...</td>\n",
       "      <td>0.77</td>\n",
       "      <td>-315</td>\n",
       "      <td>Central</td>\n",
       "      <td>9/21/1953</td>\n",
       "      <td>242</td>\n",
       "      <td>9/5/2016</td>\n",
       "      <td>Regular Air</td>\n",
       "      <td>20</td>\n",
       "      <td>Michigan</td>\n",
       "      <td>40</td>\n",
       "    </tr>\n",
       "  </tbody>\n",
       "</table>\n",
       "<p>9426 rows × 26 columns</p>\n",
       "</div>"
      ],
      "text/plain": [
       "                            Category           City  Container  Customer ID  \\\n",
       "0                              Paper        Lombard  Small Box         3035   \n",
       "1                              Paper        Lombard   Wrap Bag         3035   \n",
       "2                Pens & Art Supplies      Southbury   Wrap Bag         3385   \n",
       "3     Binders and Binder Accessories      Coachella  Small Box         3133   \n",
       "4                       Rubber Bands      Coachella   Wrap Bag         3133   \n",
       "...                              ...            ...        ...          ...   \n",
       "9421   Scissors, Rulers and Trimmers         Dublin   Wrap Bag         2733   \n",
       "9422             Pens & Art Supplies  Cottage Grove   Wrap Bag         2291   \n",
       "9423                      Appliances        Sanford  Small Box          436   \n",
       "9424                           Paper       Paterson  Small Box          931   \n",
       "9425            Computer Peripherals         Taylor  Small Box         2155   \n",
       "\n",
       "           Customer Name Customer Segment       Department  Discount  Item ID  \\\n",
       "0            Mark Bailey      Home Office  Office Supplies      0.01    10074   \n",
       "1            Mark Bailey      Home Office  Office Supplies      0.04    10079   \n",
       "2        Daniel Richmond        Corporate  Office Supplies      0.04    11012   \n",
       "3     Kristine Singleton        Corporate  Office Supplies      0.10    10646   \n",
       "4     Kristine Singleton        Corporate  Office Supplies      0.03    10138   \n",
       "...                  ...              ...              ...       ...      ...   \n",
       "9421       Marian Godwin   Small Business  Office Supplies      0.08    11255   \n",
       "9422       Maxine Joyner        Corporate  Office Supplies      0.06    11154   \n",
       "9423       Lauren Lanier   Small Business  Office Supplies      0.05    11144   \n",
       "9424          Norma Hull   Small Business  Office Supplies      0.07    10859   \n",
       "9425       Raymond Clark      Home Office       Technology      0.06    10229   \n",
       "\n",
       "                                                   Item  ...  \\\n",
       "0     Hammermill CopyPlus Copy Paper (20Lb. and 84 B...  ...   \n",
       "1     Telephone Message Books with Fax/Mobile Sectio...  ...   \n",
       "2     Premium Writing Pencils, Soft, #2 by Central A...  ...   \n",
       "3                  Fellowes Black Plastic Comb Bindings  ...   \n",
       "4                              Assorted Color Push Pins  ...   \n",
       "...                                                 ...  ...   \n",
       "9421  Serrated Blade or Curved Handle Hand Letter Op...  ...   \n",
       "9422              Dixon My First Ticonderoga Pencil, #2  ...   \n",
       "9423     Tripp Lite Isotel 8 Ultra 8 Outlet Metal Surge  ...   \n",
       "9424                                         Xerox 1893  ...   \n",
       "9425         Keytronic Designer 104- Key Black Keyboard  ...   \n",
       "\n",
       "      Product Base Margin Profit   Region      Row ID  Sales   Ship Date  \\\n",
       "0                    0.36    -76  Central  11/18/1951     53   11/9/2018   \n",
       "1                    0.39     52  Central  11/19/1951     76  11/12/2016   \n",
       "2                    0.57    -22     East    3/1/1961     16  11/23/2017   \n",
       "3                    0.39   -350     West   6/27/1961     65   1/25/2018   \n",
       "4                    0.52      4     West   6/28/1961     19   1/25/2018   \n",
       "...                   ...    ...      ...         ...    ...         ...   \n",
       "9421                 0.84    -48     West   11/6/1969     38  12/16/2017   \n",
       "9422                 0.56     -2  Central    3/5/1959     53    7/7/2018   \n",
       "9423                 0.59    569     East   12/2/1954    825  11/28/2017   \n",
       "9424                 0.36     22     East    8/1/1962    163   7/21/2016   \n",
       "9425                 0.77   -315  Central   9/21/1953    242    9/5/2016   \n",
       "\n",
       "        Ship Mode  Shipping Cost        State Unit Price  \n",
       "0     Regular Air              5     Illinois          5  \n",
       "1     Regular Air              1     Illinois          6  \n",
       "2     Express Air              2  Connecticut          3  \n",
       "3     Regular Air              8   California          6  \n",
       "4     Regular Air              1   California          2  \n",
       "...           ...            ...          ...        ...  \n",
       "9421  Regular Air              2   California          3  \n",
       "9422  Regular Air              2    Minnesota          6  \n",
       "9423  Regular Air              4        Maine         71  \n",
       "9424  Regular Air             17   New Jersey         41  \n",
       "9425  Regular Air             20     Michigan         40  \n",
       "\n",
       "[9426 rows x 26 columns]"
      ]
     },
     "execution_count": 3,
     "metadata": {},
     "output_type": "execute_result"
    }
   ],
   "source": [
    "df"
   ]
  },
  {
   "cell_type": "code",
   "execution_count": null,
   "id": "535e3782",
   "metadata": {},
   "outputs": [],
   "source": [
    "df.to_csv('superstore.csv')"
   ]
  },
  {
   "cell_type": "code",
   "execution_count": null,
   "id": "d5490722",
   "metadata": {},
   "outputs": [
    {
     "name": "stdout",
     "output_type": "stream",
     "text": [
      "50\n"
     ]
    }
   ],
   "source": [
    "w =50\n",
    "print(str(w))"
   ]
  },
  {
   "cell_type": "code",
   "execution_count": null,
   "id": "0d531802",
   "metadata": {},
   "outputs": [
    {
     "name": "stdout",
     "output_type": "stream",
     "text": [
      "[3, 5, 7, 9, [1, 2, 3, 4]]\n",
      "3\n"
     ]
    }
   ],
   "source": [
    "l = [3,5,7,9]\n",
    "l.append([1,2,3,4])\n",
    "print(l)\n",
    "print(len(l[2:]))"
   ]
  },
  {
   "cell_type": "code",
   "execution_count": null,
   "id": "bb4bcd57",
   "metadata": {},
   "outputs": [],
   "source": [
    "import numpy as np"
   ]
  },
  {
   "cell_type": "code",
   "execution_count": null,
   "id": "ccb879d7",
   "metadata": {},
   "outputs": [
    {
     "name": "stdout",
     "output_type": "stream",
     "text": [
      "[1. 1. 1. 2. 1.]\n"
     ]
    }
   ],
   "source": [
    "x5 = np.ones(5)\n",
    "x5[3] = 2\n",
    "print(x5)"
   ]
  },
  {
   "cell_type": "code",
   "execution_count": null,
   "id": "a2e51795",
   "metadata": {},
   "outputs": [
    {
     "data": {
      "text/plain": [
       "array([1., 1., 1., 1., 1.])"
      ]
     },
     "execution_count": 3,
     "metadata": {},
     "output_type": "execute_result"
    }
   ],
   "source": [
    "x"
   ]
  },
  {
   "cell_type": "code",
   "execution_count": null,
   "id": "b680dd6f",
   "metadata": {},
   "outputs": [
    {
     "name": "stdout",
     "output_type": "stream",
     "text": [
      "brand harley\n",
      "model street 123\n",
      "year 2023\n"
     ]
    }
   ],
   "source": [
    "users3 = dict(brand = \"harley\",model = \"street 123\", year = 2023)\n",
    "\n",
    "for x,y in users3.items():\n",
    "    print(x,y)"
   ]
  },
  {
   "cell_type": "code",
   "execution_count": null,
   "id": "89b57d3b",
   "metadata": {},
   "outputs": [
    {
     "name": "stdout",
     "output_type": "stream",
     "text": [
      "3\n"
     ]
    }
   ],
   "source": [
    "s=\"Stack\\\\Queue\\\\Tree\\\\LinkedList\"\n",
    "print(s.count(\"\\\\\"))"
   ]
  },
  {
   "cell_type": "code",
   "execution_count": null,
   "id": "1c91e9a0",
   "metadata": {},
   "outputs": [
    {
     "data": {
      "text/plain": [
       "{1, 2}"
      ]
     },
     "execution_count": 1,
     "metadata": {},
     "output_type": "execute_result"
    }
   ],
   "source": [
    "a = {1,2,3,4,5,6}\n",
    "b = {3,4,5,6}\n",
    "\n",
    "x = a.difference(b)\n",
    "x"
   ]
  },
  {
   "cell_type": "code",
   "execution_count": null,
   "id": "8b97ce41",
   "metadata": {},
   "outputs": [
    {
     "name": "stdout",
     "output_type": "stream",
     "text": [
      "16\n"
     ]
    }
   ],
   "source": [
    "print(pow(len(x),len(b)))"
   ]
  },
  {
   "cell_type": "code",
   "execution_count": null,
   "id": "b9bfcdd4",
   "metadata": {},
   "outputs": [
    {
     "data": {
      "text/plain": [
       "81"
      ]
     },
     "execution_count": 5,
     "metadata": {},
     "output_type": "execute_result"
    }
   ],
   "source": [
    "pow(3,4)"
   ]
  },
  {
   "cell_type": "code",
   "execution_count": null,
   "id": "bae38746",
   "metadata": {},
   "outputs": [
    {
     "data": {
      "text/plain": [
       "4"
      ]
     },
     "execution_count": 6,
     "metadata": {},
     "output_type": "execute_result"
    }
   ],
   "source": [
    "16%6"
   ]
  },
  {
   "cell_type": "code",
   "execution_count": null,
   "id": "82af1988",
   "metadata": {},
   "outputs": [
    {
     "name": "stdout",
     "output_type": "stream",
     "text": [
      "3\n"
     ]
    }
   ],
   "source": [
    "D = {1 : 1, 2 : '2', '1' : 1, '2' : 3}\n",
    "D['1'] = 2\n",
    "print(D[D[D[str(D[1])]]]) "
   ]
  },
  {
   "cell_type": "code",
   "execution_count": null,
   "id": "9359625e",
   "metadata": {},
   "outputs": [
    {
     "data": {
      "text/plain": [
       "{1: 1, 2: '2', '1': 2, '2': 3}"
      ]
     },
     "execution_count": 2,
     "metadata": {},
     "output_type": "execute_result"
    }
   ],
   "source": [
    "D"
   ]
  },
  {
   "cell_type": "code",
   "execution_count": null,
   "id": "c25aaf2d",
   "metadata": {},
   "outputs": [
    {
     "data": {
      "text/plain": [
       "'2'"
      ]
     },
     "execution_count": 9,
     "metadata": {},
     "output_type": "execute_result"
    }
   ],
   "source": [
    "D[D[str(D[1])]]"
   ]
  },
  {
   "cell_type": "code",
   "execution_count": null,
   "id": "40aaa72c",
   "metadata": {},
   "outputs": [
    {
     "name": "stdout",
     "output_type": "stream",
     "text": [
      "True\n"
     ]
    }
   ],
   "source": [
    "t1 = (1,2,3,4)\n",
    "t2 = (1,4,3,4)\n",
    "\n",
    "print(t1<t2)"
   ]
  },
  {
   "cell_type": "code",
   "execution_count": null,
   "id": "555dbe5c",
   "metadata": {},
   "outputs": [],
   "source": [
    "r = 12345\n",
    "text = '''\n",
    "Congratulations for prepsat.\n",
    "''' + str(r) + '''thnak you'''"
   ]
  },
  {
   "cell_type": "code",
   "execution_count": null,
   "id": "2fe8998c",
   "metadata": {},
   "outputs": [
    {
     "data": {
      "text/plain": [
       "'\\nCongratulations for prepsat.\\n12345thnak you'"
      ]
     },
     "execution_count": 9,
     "metadata": {},
     "output_type": "execute_result"
    }
   ],
   "source": [
    "text"
   ]
  },
  {
   "cell_type": "code",
   "execution_count": null,
   "id": "ef836459",
   "metadata": {},
   "outputs": [
    {
     "data": {
      "text/plain": [
       "True"
      ]
     },
     "execution_count": 3,
     "metadata": {},
     "output_type": "execute_result"
    }
   ],
   "source": [
    "round(1.5) == round(2.5)"
   ]
  },
  {
   "cell_type": "code",
   "execution_count": null,
   "id": "b7e63cd8",
   "metadata": {},
   "outputs": [
    {
     "data": {
      "text/plain": [
       "2"
      ]
     },
     "execution_count": 2,
     "metadata": {},
     "output_type": "execute_result"
    }
   ],
   "source": []
  },
  {
   "cell_type": "code",
   "execution_count": null,
   "id": "a0c91818",
   "metadata": {},
   "outputs": [
    {
     "name": "stdout",
     "output_type": "stream",
     "text": [
      "246\n"
     ]
    }
   ],
   "source": [
    "x = 1_2_3\n",
    "y = 2\n",
    "print(x * 2)"
   ]
  },
  {
   "cell_type": "code",
   "execution_count": null,
   "id": "861165bb",
   "metadata": {},
   "outputs": [
    {
     "name": "stdout",
     "output_type": "stream",
     "text": [
      "P\n",
      "r\n",
      "e\n",
      "p\n",
      "i\n",
      "n\n",
      "s\n",
      "t\n",
      "a\n",
      " \n",
      "p\n",
      "r\n",
      "i\n",
      "m\n",
      "e\n"
     ]
    }
   ],
   "source": [
    "name = \"Prepinsta prime\"\n",
    "\n",
    "for val in name:\n",
    "    print(val)"
   ]
  },
  {
   "cell_type": "code",
   "execution_count": null,
   "id": "3a723ebe",
   "metadata": {},
   "outputs": [
    {
     "name": "stdout",
     "output_type": "stream",
     "text": [
      "Enter the integer value :47\n",
      "47\n",
      "(2+56j)\n"
     ]
    }
   ],
   "source": [
    "#user input of integer value\n",
    "var1 = int(input('Enter the integer value :'))\n",
    "#initialize an integer variable\n",
    "var2 = 2+56j\n",
    "#print the integer variables\n",
    "print(var1)\n",
    "print(var2)"
   ]
  },
  {
   "cell_type": "code",
   "execution_count": null,
   "id": "d1c0ae98",
   "metadata": {},
   "outputs": [
    {
     "name": "stdout",
     "output_type": "stream",
     "text": [
      "Enter the complex value :10\n",
      "(10+0j)\n",
      "(2+56j)\n"
     ]
    }
   ],
   "source": [
    "#user input of complex value\n",
    "var1 = complex(input('Enter the complex value :'))\n",
    "#initialize an complex variable\n",
    "var2 = 2+56j\n",
    "#print the complex variables\n",
    "print(var1)\n",
    "print(var2)"
   ]
  },
  {
   "cell_type": "code",
   "execution_count": null,
   "id": "fe4c95e4",
   "metadata": {},
   "outputs": [
    {
     "ename": "SyntaxError",
     "evalue": "invalid syntax (2590748777.py, line 1)",
     "output_type": "error",
     "traceback": [
      "\u001b[0;36m  Input \u001b[0;32mIn [1]\u001b[0;36m\u001b[0m\n\u001b[0;31m    105 + 606 /* 8\u001b[0m\n\u001b[0m               ^\u001b[0m\n\u001b[0;31mSyntaxError\u001b[0m\u001b[0;31m:\u001b[0m invalid syntax\n"
     ]
    }
   ],
   "source": [
    "105 + 606 /* 8"
   ]
  },
  {
   "cell_type": "code",
   "execution_count": null,
   "id": "af31f884",
   "metadata": {},
   "outputs": [
    {
     "name": "stdout",
     "output_type": "stream",
     "text": [
      "1\n"
     ]
    }
   ],
   "source": [
    "l = [1,2,3]\n",
    "t = ('a','b','c')\n",
    "\n",
    "s = \"\"\n",
    "for i in t:\n",
    "    for j in l:\n",
    "        if(t.index(i)==l.index(j)):\n",
    "            s+=i*j\n",
    "print(s.find(\"bb\"))"
   ]
  },
  {
   "cell_type": "code",
   "execution_count": null,
   "id": "77e83fba",
   "metadata": {},
   "outputs": [
    {
     "name": "stdout",
     "output_type": "stream",
     "text": [
      "mlylm\n"
     ]
    }
   ],
   "source": [
    "s=\"malayalam\"\n",
    "r=s[::2]\n",
    "print(r)"
   ]
  },
  {
   "cell_type": "code",
   "execution_count": null,
   "id": "2ab71d1f",
   "metadata": {},
   "outputs": [
    {
     "name": "stdout",
     "output_type": "stream",
     "text": [
      "My name in Rushikesh\n"
     ]
    }
   ],
   "source": [
    "def greet_decorator\n",
    "\n",
    "\n",
    "\n",
    "\n",
    "\n",
    "def name():\n",
    "    print(\"My name in Rushikesh\")\n",
    "name()"
   ]
  },
  {
   "cell_type": "code",
   "execution_count": 4,
   "id": "132c08d7",
   "metadata": {},
   "outputs": [
    {
     "name": "stdout",
     "output_type": "stream",
     "text": [
      "['clip', 'rubberband', 'cluture', 'comb', 'eyeliner', 'lipstick']\n"
     ]
    },
    {
     "data": {
      "text/plain": [
       "['comb', 'eyeliner']"
      ]
     },
     "execution_count": 4,
     "metadata": {},
     "output_type": "execute_result"
    }
   ],
   "source": [
    "# if we pass negatice indexing in the list, it will also read it form left to right only \n",
    "# example -->\n",
    "bagpack=['clip','rubberband','cluture','comb','eyeliner','lipstick']\n",
    "bagpack[-1:-3] # this will print an empty list as there are no elements after the elements at -1 index\n",
    "print(bagpack)\n",
    "bagpack[-3: -1]"
   ]
  },
  {
   "cell_type": "code",
   "execution_count": 5,
   "id": "572178cd",
   "metadata": {},
   "outputs": [
    {
     "name": "stdout",
     "output_type": "stream",
     "text": [
      "['clip', 'rubberband', 'cluture', 'comb', 'eyeliner', 'lipstick', 'charger']\n"
     ]
    }
   ],
   "source": [
    "# append() -->> add values to the end of the list, you have to pass the values\n",
    "# insert() -->> add values to the list at any index position, first pass the index position and then the values\n",
    "\n",
    "# example ->>\n",
    "bagpack.append(\"charger\")\n",
    "print(bagpack)"
   ]
  },
  {
   "cell_type": "code",
   "execution_count": 17,
   "id": "425e3f0e",
   "metadata": {},
   "outputs": [
    {
     "name": "stdout",
     "output_type": "stream",
     "text": [
      "['kajal', 'kajal', 'kajal', 'kajal', 'kajal', 'eyeliner', 'pen', 'charger']\n"
     ]
    }
   ],
   "source": [
    "bagpack.insert(0,\"kajal\")\n",
    "print(bagpack)"
   ]
  },
  {
   "cell_type": "code",
   "execution_count": 18,
   "id": "1db41842",
   "metadata": {},
   "outputs": [
    {
     "name": "stdout",
     "output_type": "stream",
     "text": [
      "['kajal', 'kajal', 'kajal', 'kajal', 'kajal', 'eyeliner', 'pen', 'charger']\n"
     ]
    }
   ],
   "source": [
    "# to update the values at any index -->>\n",
    "bagpack[-2]= 'pen'\n",
    "print(bagpack)"
   ]
  },
  {
   "cell_type": "code",
   "execution_count": 19,
   "id": "3e69e313",
   "metadata": {},
   "outputs": [
    {
     "name": "stdout",
     "output_type": "stream",
     "text": [
      "['kajal', 'kajal', 'kajal', 'kajal', 'kajal', 'eyeliner', 'pen', 'charger']\n",
      "['kajal', 'kajal', 'kajal', 'kajal', 'eyeliner', 'pen', 'charger']\n"
     ]
    }
   ],
   "source": [
    "# remove() method -->> remove a value from the list, also we pass the value to remove it form the list\n",
    "# if the value is not present in the list, it will generate a value error\n",
    "# if the value if present multiple times, only the first instance will be deleted\n",
    "\n",
    "# del statement - delete the value from the list, we have to pass the index position\n",
    "# example -->>\n",
    "print(bagpack)\n",
    "del bagpack[1]\n",
    "print(bagpack)"
   ]
  },
  {
   "cell_type": "code",
   "execution_count": null,
   "id": "e9be7f79",
   "metadata": {},
   "outputs": [],
   "source": []
  }
 ],
 "metadata": {
  "kernelspec": {
   "display_name": "Python 3 (ipykernel)",
   "language": "python",
   "name": "python3"
  },
  "language_info": {
   "codemirror_mode": {
    "name": "ipython",
    "version": 3
   },
   "file_extension": ".py",
   "mimetype": "text/x-python",
   "name": "python",
   "nbconvert_exporter": "python",
   "pygments_lexer": "ipython3",
   "version": "3.11.4"
  }
 },
 "nbformat": 4,
 "nbformat_minor": 5
}
