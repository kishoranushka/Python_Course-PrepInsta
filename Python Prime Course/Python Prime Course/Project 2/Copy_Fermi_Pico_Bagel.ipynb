{
  "cells": [
    {
      "attachments": {},
      "cell_type": "markdown",
      "id": "0b55c9a8",
      "metadata": {
        "id": "0b55c9a8"
      },
      "source": [
        "## Fermi Pico Bagel\n",
        "Try playing game and understand the rules : https://communicrossings.com/html/js/pfb.htm\n",
        "\n",
        "## Step 1\n",
        "Store any number in string format(number to be guessed by player) in a variable `original_number`.\n",
        "\n",
        "For Example: original_number = '123'\n"
      ]
    },
    {
      "cell_type": "code",
      "execution_count": null,
      "id": "57a0a2d0",
      "metadata": {
        "id": "57a0a2d0"
      },
      "outputs": [],
      "source": [
        "## Your code goes here \n",
        "\n",
        "original_number = '123'  #You can write any number"
      ]
    },
    {
      "attachments": {},
      "cell_type": "markdown",
      "id": "fd43340c",
      "metadata": {
        "id": "fd43340c"
      },
      "source": [
        "## Step 2\n",
        "Take a number as user input and save it in a variable `guess_number`.(Make sure that the datatype of guess_number is same as of original number i.e- `str`)"
      ]
    },
    {
      "cell_type": "code",
      "execution_count": null,
      "id": "2e0075a7",
      "metadata": {
        "id": "2e0075a7"
      },
      "outputs": [],
      "source": [
        "## Your code goes here \n",
        "\n",
        "guess_number = input('Guess the number: ')\n"
      ]
    },
    {
      "attachments": {},
      "cell_type": "markdown",
      "id": "22318243",
      "metadata": {
        "id": "22318243"
      },
      "source": [
        "## Step 3\n",
        "Check if total number of digits in `original_number` and `guess_number` is not same(Use `len()` function) then ask user for valid input.(First use `len()` to get total digits in `original_number` and `guess_number`.)"
      ]
    },
    {
      "cell_type": "code",
      "execution_count": null,
      "id": "258e2971",
      "metadata": {
        "id": "258e2971"
      },
      "outputs": [],
      "source": [
        "## Your code goes here \n",
        "\n",
        "if len(guess_number) != len(original_number):\n",
        "    print(f'Enter {len(original_number)} digit number.')"
      ]
    },
    {
      "attachments": {},
      "cell_type": "markdown",
      "id": "0c064bda",
      "metadata": {
        "id": "0c064bda"
      },
      "source": [
        "## Step 4\n",
        "Using `set()`, check if the digits are repeated in a `guess_number` .\n",
        "Note that datatype `set` allows unique values only.\n",
        "\n",
        "For ex. if `user_input`is 122, then it should print the string 'Duplicate number'  as digit 2 is repeated."
      ]
    },
    {
      "cell_type": "code",
      "execution_count": null,
      "id": "7b5ef10d",
      "metadata": {
        "id": "7b5ef10d"
      },
      "outputs": [],
      "source": [
        "## Your code goes here \n",
        "\n",
        "if len(guess_number)  != len(set(guess_number)):\n",
        "    print('Duplicate number')"
      ]
    },
    {
      "attachments": {},
      "cell_type": "markdown",
      "id": "0514b8d9",
      "metadata": {
        "id": "0514b8d9"
      },
      "source": [
        "## Step 5\n",
        "Check winning condition i.e. if both `guess_number` and `original_number` are same, then print 'Fermi' as many number of times as number of digits in a number and print ' You win !! '.\n"
      ]
    },
    {
      "cell_type": "code",
      "execution_count": null,
      "id": "ab9379a5",
      "metadata": {
        "id": "ab9379a5"
      },
      "outputs": [],
      "source": [
        "## Your code goes here \n",
        "\n",
        "if (int(guess_number) - int(original_number)) == 0 :\n",
        "    print('Fermi '*len(original_number))\n",
        "    print('\\nYou won !!')\n",
        "    \n",
        "    "
      ]
    },
    {
      "attachments": {},
      "cell_type": "markdown",
      "id": "96eca378",
      "metadata": {
        "id": "96eca378"
      },
      "source": [
        "## Step 6\n",
        "Create empty list called `output` where we will store the output in the form of list.\n",
        "\n",
        "For example: output = [ ' Fermi ', ' Pico ' ,' Pico ' ] ."
      ]
    },
    {
      "cell_type": "code",
      "execution_count": null,
      "id": "c047a839",
      "metadata": {
        "id": "c047a839"
      },
      "outputs": [],
      "source": [
        "## Your code goes here \n",
        "\n",
        "output = []"
      ]
    },
    {
      "attachments": {},
      "cell_type": "markdown",
      "id": "4949309d",
      "metadata": {
        "id": "4949309d"
      },
      "source": [
        "## Step 7\n",
        "Check if any digit and it's position in both `guess_number` and `original_number` are same then append 'Fermi' to `output` list or if only digit matches and not the position then append 'Pico' to `output`.\n"
      ]
    },
    {
      "cell_type": "code",
      "execution_count": null,
      "id": "7dbe3800",
      "metadata": {
        "id": "7dbe3800"
      },
      "outputs": [],
      "source": [
        "## Your code goes here \n",
        "\n",
        "for i in range(len(original_number)): \n",
        "    for j in range(len(guess_number)):     \n",
        "        if original_number[i] == guess_number[j]: \n",
        "            if i == j:               \n",
        "                output.append('Fermi')\n",
        "            else:\n",
        "                output.append('Pico')"
      ]
    },
    {
      "attachments": {},
      "cell_type": "markdown",
      "id": "59e62457",
      "metadata": {
        "id": "59e62457"
      },
      "source": [
        "## Step 8\n",
        "Define a variable called `output_string` which has all values from a list `output` with each value separated by space. (Use 'for' loop to get all the values from a list `output`.)"
      ]
    },
    {
      "cell_type": "code",
      "execution_count": null,
      "id": "d15c8f60",
      "metadata": {
        "id": "d15c8f60"
      },
      "outputs": [],
      "source": [
        "## Your code goes here \n",
        "\n",
        "output_string = ''\n",
        "\n",
        "for item in output :\n",
        "    output_string = output_string + ' ' + item \n",
        "    \n",
        "print(output_string)"
      ]
    },
    {
      "attachments": {},
      "cell_type": "markdown",
      "id": "f3f50bef",
      "metadata": {
        "id": "f3f50bef"
      },
      "source": [
        "## Step 9\n",
        "Check if neither any digit nor any position matches i.e. if length of `output` list is zero then print `Bagel`.\n",
        "\n",
        "Otherwise print `output_string`."
      ]
    },
    {
      "cell_type": "code",
      "execution_count": null,
      "id": "3c568356",
      "metadata": {
        "id": "3c568356"
      },
      "outputs": [],
      "source": [
        "## Your code goes here \n",
        "\n",
        "if len(output) == 0:           \n",
        "    print('Bagels')\n",
        "else:\n",
        "    print(output_string)"
      ]
    },
    {
      "attachments": {},
      "cell_type": "markdown",
      "id": "9d4a684d",
      "metadata": {
        "id": "9d4a684d"
      },
      "source": [
        "## Step 10\n",
        "\n",
        "## Complete game\n",
        "Here use continue and break statements at appropriate places."
      ]
    },
    {
      "cell_type": "code",
      "execution_count": null,
      "id": "79843cdf",
      "metadata": {
        "id": "79843cdf"
      },
      "outputs": [],
      "source": [
        "## step 1\n",
        "\n",
        "## create infinite while loop\n",
        "\n",
        "## step 2 and step 6\n",
        "\n",
        "## step 3 and step 4 (use continue statement)\n",
        "\n",
        "## step 5 (use break statement for winning condition)\n",
        "\n",
        "## step 7\n",
        "\n",
        "## step 8\n",
        "\n",
        "## step 9"
      ]
    },
    {
      "cell_type": "code",
      "execution_count": 1,
      "id": "3bfddc27",
      "metadata": {},
      "outputs": [
        {
          "name": "stdout",
          "output_type": "stream",
          "text": [
            " Pico\n",
            " Fermi Fermi\n",
            " Fermi Fermi Pico Pico\n",
            " Fermi  Fermi  Fermi  Fermi \n",
            "\n",
            "You won !!\n"
          ]
        }
      ],
      "source": [
        "original_number = '5489'  #You can write any number\n",
        "\n",
        "while True :\n",
        "    output = []\n",
        "    guess_number = input('\\nGuess the number: ')\n",
        "    \n",
        "    if len((guess_number)) != len(original_number):\n",
        "        print(f'Enter {len(original_number)} digit number')\n",
        "        continue\n",
        "        \n",
        "    if len(guess_number)  != len(set(guess_number)):\n",
        "        print('Duplicate number')\n",
        "        continue\n",
        "    \n",
        "    if (int(guess_number) - int(original_number)) == 0 :\n",
        "        print(' Fermi '*len(original_number))\n",
        "        print('\\nYou won !!')\n",
        "        break\n",
        "    \n",
        "    for i in range(len(original_number)): \n",
        "        for j in range(len(guess_number)):     \n",
        "            if original_number[i] == guess_number[j]: \n",
        "                if i == j:               \n",
        "                    output.append('Fermi')\n",
        "                else:\n",
        "                    output.append('Pico')\n",
        "                    \n",
        "    output_string = ''\n",
        "    for item in output :\n",
        "        output_string = output_string + ' ' + item \n",
        "        \n",
        "    \n",
        "    if len(output) == 0:           \n",
        "        print(' Bagels')\n",
        "    else:\n",
        "        print(output_string)\n",
        "        "
      ]
    }
  ],
  "metadata": {
    "colab": {
      "provenance": []
    },
    "kernelspec": {
      "display_name": "Python 3",
      "language": "python",
      "name": "python3"
    },
    "language_info": {
      "codemirror_mode": {
        "name": "ipython",
        "version": 3
      },
      "file_extension": ".py",
      "mimetype": "text/x-python",
      "name": "python",
      "nbconvert_exporter": "python",
      "pygments_lexer": "ipython3",
      "version": "3.9.6"
    }
  },
  "nbformat": 4,
  "nbformat_minor": 5
}
