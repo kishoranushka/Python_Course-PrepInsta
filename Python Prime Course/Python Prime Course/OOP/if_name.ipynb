{
 "cells": [
  {
   "attachments": {},
   "cell_type": "markdown",
   "metadata": {},
   "source": [
    "### `if __name__ = \"__main__\"`"
   ]
  },
  {
   "attachments": {},
   "cell_type": "markdown",
   "metadata": {},
   "source": [
    "In Python, the `if __name__ == \"__main__\"` condition is used to check if the \n",
    "current script is being run as the main program. It allows you to control the execution \n",
    "of code based on whether the script is being run directly or imported as a module.\n",
    "\n",
    "\n",
    "When you execute a Python script directly, the special variable `__name__` is set to `\"__main__\"`. \n",
    "However, when a Python script is imported as a module, the value of `__name__` becomes the name of the module.\n",
    "\n",
    "\n",
    "By using if `__name__ == \"__main__\"`, you can define a block of code that should only run when the script is executed directly. \n",
    "\n",
    "\n",
    "This is useful when you want to include some test code or run certain functions only when the script is the main entry point."
   ]
  }
 ],
 "metadata": {
  "language_info": {
   "name": "python"
  },
  "orig_nbformat": 4
 },
 "nbformat": 4,
 "nbformat_minor": 2
}
